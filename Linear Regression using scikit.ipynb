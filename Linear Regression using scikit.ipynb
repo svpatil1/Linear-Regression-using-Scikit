{
 "cells": [
  {
   "cell_type": "code",
   "execution_count": 27,
   "metadata": {},
   "outputs": [],
   "source": [
    "#import the required libraries\n",
    "\n",
    "import sklearn\n",
    "from sklearn.datasets import load_iris\n",
    "from sklearn import linear_model\n",
    "from sklearn.model_selection import train_test_split\n",
    "from sklearn.metrics import classification_report, confusion_matrix\n",
    "from sklearn.metrics import mean_squared_error, r2_score\n",
    "import pandas as pd\n",
    "\n",
    "# load iris data \n",
    "iris = load_iris()\n",
    "\n",
    "X = iris.data\n",
    "Y = iris.target\n",
    "\n",
    "# split the data into training and test set\n",
    "x_train,x_test, y_train, y_test = train_test_split(X,Y,test_size=0.30)"
   ]
  },
  {
   "cell_type": "code",
   "execution_count": 16,
   "metadata": {},
   "outputs": [
    {
     "data": {
      "text/plain": [
       "LinearRegression(copy_X=True, fit_intercept=True, n_jobs=1, normalize=False)"
      ]
     },
     "execution_count": 16,
     "metadata": {},
     "output_type": "execute_result"
    }
   ],
   "source": [
    "model = linear_model.LinearRegression()\n",
    "model.fit(x_train,y_train)"
   ]
  },
  {
   "cell_type": "code",
   "execution_count": 25,
   "metadata": {},
   "outputs": [
    {
     "data": {
      "text/plain": [
       "array([[ 0.20770806],\n",
       "       [-0.02708462],\n",
       "       [ 0.96456417],\n",
       "       [ 0.86032592],\n",
       "       [ 0.09955359],\n",
       "       [ 1.44035941],\n",
       "       [ 0.01037077],\n",
       "       [ 0.88850355],\n",
       "       [ 1.96542932],\n",
       "       [ 2.14424352],\n",
       "       [-0.06321326],\n",
       "       [ 1.22167726],\n",
       "       [ 1.68435806],\n",
       "       [ 1.16156662],\n",
       "       [-0.12245319],\n",
       "       [-0.03552355],\n",
       "       [-0.13794859],\n",
       "       [ 0.03225898],\n",
       "       [-0.07781383],\n",
       "       [ 1.35025793],\n",
       "       [ 0.06122748],\n",
       "       [ 1.57520538],\n",
       "       [ 1.32333526],\n",
       "       [ 1.75832635],\n",
       "       [-0.0453929 ],\n",
       "       [ 1.49036953],\n",
       "       [-0.0226897 ],\n",
       "       [ 1.43637257],\n",
       "       [ 1.77944751],\n",
       "       [ 1.21589987],\n",
       "       [-0.11245634],\n",
       "       [ 1.41290232],\n",
       "       [ 0.0823966 ],\n",
       "       [ 1.37654105],\n",
       "       [ 0.17106766],\n",
       "       [ 2.14859824],\n",
       "       [ 1.01452634],\n",
       "       [-0.07781383],\n",
       "       [ 1.2202948 ],\n",
       "       [ 1.03004557],\n",
       "       [ 1.21104087],\n",
       "       [ 0.84399169],\n",
       "       [ 1.3398527 ],\n",
       "       [ 2.04299243],\n",
       "       [-0.06091213]])"
      ]
     },
     "execution_count": 25,
     "metadata": {},
     "output_type": "execute_result"
    }
   ],
   "source": [
    "prediction = model.predict(x_test)\n",
    "prediction"
   ]
  },
  {
   "cell_type": "code",
   "execution_count": 28,
   "metadata": {},
   "outputs": [
    {
     "name": "stdout",
     "output_type": "stream",
     "text": [
      "Coefficients: \n",
      " [[-0.09869349 -0.00767043  0.26155626  0.54460757]]\n",
      "Mean squared error: 1.20\n",
      "Variance score: -0.70\n"
     ]
    }
   ],
   "source": [
    "# evaluating the model\n",
    "\n",
    "# The coefficients\n",
    "print('Coefficients: \\n', model.coef_)\n",
    "\n",
    "# The mean squared error\n",
    "print(\"Mean squared error: %.2f\"\n",
    "      % mean_squared_error(y_test, prediction))\n",
    "\n",
    "# Explained variance score: 1 is perfect prediction\n",
    "print('Variance score: %.2f' % r2_score(y_test, prediction))"
   ]
  },
  {
   "cell_type": "code",
   "execution_count": null,
   "metadata": {},
   "outputs": [],
   "source": []
  },
  {
   "cell_type": "code",
   "execution_count": null,
   "metadata": {},
   "outputs": [],
   "source": []
  }
 ],
 "metadata": {
  "kernelspec": {
   "display_name": "Python 3",
   "language": "python",
   "name": "python3"
  },
  "language_info": {
   "codemirror_mode": {
    "name": "ipython",
    "version": 3
   },
   "file_extension": ".py",
   "mimetype": "text/x-python",
   "name": "python",
   "nbconvert_exporter": "python",
   "pygments_lexer": "ipython3",
   "version": "3.6.4"
  }
 },
 "nbformat": 4,
 "nbformat_minor": 2
}
